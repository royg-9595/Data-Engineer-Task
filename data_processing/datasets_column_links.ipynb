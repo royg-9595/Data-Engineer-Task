{
 "cells": [
  {
   "cell_type": "code",
   "execution_count": 4,
   "id": "1d5d9f23-54f9-49a3-8fd8-a01a3e2a6090",
   "metadata": {},
   "outputs": [],
   "source": [
    "import os\n",
    "import pandas as pd\n",
    "\n",
    "folder_path = os.path.join(os.getcwd(),'..', 'datasets')"
   ]
  },
  {
   "cell_type": "code",
   "execution_count": 5,
   "id": "7d0fa70d-fd68-4a75-a02e-08477a07065e",
   "metadata": {},
   "outputs": [],
   "source": [
    "def load_dataset(file_path):\n",
    "    ext = os.path.splitext(file_path)[-1].lower()\n",
    "    if ext == '.csv':\n",
    "        return pd.read_csv(file_path)\n",
    "    elif ext == '.parquet':\n",
    "        return pd.read_parquet(file_path)\n",
    "    elif ext in ['.xls', '.xlsx']:\n",
    "        return pd.read_excel(file_path)\n",
    "    return None"
   ]
  },
  {
   "cell_type": "code",
   "execution_count": 6,
   "id": "ff1968f3-2436-439c-9b39-e1909ddcf0c2",
   "metadata": {},
   "outputs": [],
   "source": [
    "datasets = {}\n",
    "for file_name in os.listdir(folder_path):\n",
    "    file_path = os.path.join(folder_path, file_name)\n",
    "    if os.path.isfile(file_path):\n",
    "        df = load_dataset(file_path)\n",
    "        if df is not None:\n",
    "            datasets[file_name] = df"
   ]
  },
  {
   "cell_type": "code",
   "execution_count": 9,
   "id": "f131a3d5-51b6-4eab-b50d-ca5342de34eb",
   "metadata": {},
   "outputs": [],
   "source": [
    "similar_columns = {}\n",
    "for file1, df1 in datasets.items():\n",
    "    for file2, df2 in datasets.items():\n",
    "        if file1 != file2:\n",
    "            for col1 in df1.columns:\n",
    "                for col2 in df2.columns:\n",
    "                    if col1 == col2 or set(df1[col1].dropna()) == set(df2[col2].dropna()):\n",
    "                        similar_columns[(file1, col1, file2, col2)] = True"
   ]
  },
  {
   "cell_type": "code",
   "execution_count": 10,
   "id": "9385ee62-f2d0-446b-85bb-840a2b5f7cbf",
   "metadata": {},
   "outputs": [
    {
     "name": "stdout",
     "output_type": "stream",
     "text": [
      "Columns with similar data content:\n",
      "conditions.xlsx (START) <-> encounters.parquet (START): True common values\n",
      "conditions.xlsx (STOP) <-> encounters.parquet (STOP): True common values\n",
      "conditions.xlsx (PATIENT) <-> encounters.parquet (PATIENT): True common values\n",
      "conditions.xlsx (CODE) <-> encounters.parquet (CODE): True common values\n",
      "conditions.xlsx (CODE) <-> encounters.parquet (REASONCODE): True common values\n",
      "conditions.xlsx (DESCRIPTION) <-> encounters.parquet (DESCRIPTION): True common values\n",
      "conditions.xlsx (START) <-> medications.csv (START): True common values\n",
      "conditions.xlsx (STOP) <-> medications.csv (STOP): True common values\n",
      "conditions.xlsx (PATIENT) <-> medications.csv (PATIENT): True common values\n",
      "conditions.xlsx (ENCOUNTER) <-> medications.csv (ENCOUNTER): True common values\n",
      "conditions.xlsx (CODE) <-> medications.csv (CODE): True common values\n",
      "conditions.xlsx (DESCRIPTION) <-> medications.csv (DESCRIPTION): True common values\n",
      "conditions.xlsx (STOP) <-> patients.csv (DEATHDATE): True common values\n",
      "conditions.xlsx (STOP) <-> patients.csv (GENDER): True common values\n",
      "conditions.xlsx (STOP) <-> symptoms.csv (GENDER): True common values\n",
      "conditions.xlsx (STOP) <-> symptoms.csv (AGE_END): True common values\n",
      "conditions.xlsx (PATIENT) <-> symptoms.csv (PATIENT): True common values\n",
      "encounters.parquet (START) <-> conditions.xlsx (START): True common values\n",
      "encounters.parquet (STOP) <-> conditions.xlsx (STOP): True common values\n",
      "encounters.parquet (PATIENT) <-> conditions.xlsx (PATIENT): True common values\n",
      "encounters.parquet (CODE) <-> conditions.xlsx (CODE): True common values\n",
      "encounters.parquet (DESCRIPTION) <-> conditions.xlsx (DESCRIPTION): True common values\n",
      "encounters.parquet (REASONCODE) <-> conditions.xlsx (CODE): True common values\n",
      "encounters.parquet (START) <-> medications.csv (START): True common values\n",
      "encounters.parquet (STOP) <-> medications.csv (STOP): True common values\n",
      "encounters.parquet (PATIENT) <-> medications.csv (PATIENT): True common values\n",
      "encounters.parquet (PAYER) <-> medications.csv (PAYER): True common values\n",
      "encounters.parquet (CODE) <-> medications.csv (CODE): True common values\n",
      "encounters.parquet (DESCRIPTION) <-> medications.csv (DESCRIPTION): True common values\n",
      "encounters.parquet (PAYER_COVERAGE) <-> medications.csv (PAYER_COVERAGE): True common values\n",
      "encounters.parquet (REASONCODE) <-> medications.csv (REASONCODE): True common values\n",
      "encounters.parquet (REASONDESCRIPTION) <-> medications.csv (REASONDESCRIPTION): True common values\n",
      "encounters.parquet (Id) <-> patient_gender.csv (Id): True common values\n",
      "encounters.parquet (PATIENT) <-> symptoms.csv (PATIENT): True common values\n",
      "encounters.parquet (REASONDESCRIPTION) <-> symptoms.csv (PATHOLOGY): True common values\n",
      "medications.csv (START) <-> conditions.xlsx (START): True common values\n",
      "medications.csv (STOP) <-> conditions.xlsx (STOP): True common values\n",
      "medications.csv (PATIENT) <-> conditions.xlsx (PATIENT): True common values\n",
      "medications.csv (ENCOUNTER) <-> conditions.xlsx (ENCOUNTER): True common values\n",
      "medications.csv (CODE) <-> conditions.xlsx (CODE): True common values\n",
      "medications.csv (DESCRIPTION) <-> conditions.xlsx (DESCRIPTION): True common values\n",
      "medications.csv (START) <-> encounters.parquet (START): True common values\n",
      "medications.csv (STOP) <-> encounters.parquet (STOP): True common values\n",
      "medications.csv (PATIENT) <-> encounters.parquet (PATIENT): True common values\n",
      "medications.csv (PAYER) <-> encounters.parquet (PAYER): True common values\n",
      "medications.csv (CODE) <-> encounters.parquet (CODE): True common values\n",
      "medications.csv (DESCRIPTION) <-> encounters.parquet (DESCRIPTION): True common values\n",
      "medications.csv (PAYER_COVERAGE) <-> encounters.parquet (PAYER_COVERAGE): True common values\n",
      "medications.csv (REASONCODE) <-> encounters.parquet (REASONCODE): True common values\n",
      "medications.csv (REASONDESCRIPTION) <-> encounters.parquet (REASONDESCRIPTION): True common values\n",
      "medications.csv (PATIENT) <-> symptoms.csv (PATIENT): True common values\n",
      "patients.csv (DEATHDATE) <-> conditions.xlsx (STOP): True common values\n",
      "patients.csv (GENDER) <-> conditions.xlsx (STOP): True common values\n",
      "patients.csv (PATIENT_ID) <-> patient_gender.csv (Id): True common values\n",
      "patients.csv (GENDER) <-> patient_gender.csv (GENDER): True common values\n",
      "patients.csv (DEATHDATE) <-> symptoms.csv (GENDER): True common values\n",
      "patients.csv (DEATHDATE) <-> symptoms.csv (AGE_END): True common values\n",
      "patients.csv (RACE) <-> symptoms.csv (RACE): True common values\n",
      "patients.csv (ETHNICITY) <-> symptoms.csv (ETHNICITY): True common values\n",
      "patients.csv (GENDER) <-> symptoms.csv (GENDER): True common values\n",
      "patients.csv (GENDER) <-> symptoms.csv (AGE_END): True common values\n",
      "patient_gender.csv (Id) <-> encounters.parquet (Id): True common values\n",
      "patient_gender.csv (Id) <-> patients.csv (PATIENT_ID): True common values\n",
      "patient_gender.csv (GENDER) <-> patients.csv (GENDER): True common values\n",
      "patient_gender.csv (GENDER) <-> symptoms.csv (GENDER): True common values\n",
      "symptoms.csv (PATIENT) <-> conditions.xlsx (PATIENT): True common values\n",
      "symptoms.csv (GENDER) <-> conditions.xlsx (STOP): True common values\n",
      "symptoms.csv (AGE_END) <-> conditions.xlsx (STOP): True common values\n",
      "symptoms.csv (PATIENT) <-> encounters.parquet (PATIENT): True common values\n",
      "symptoms.csv (PATHOLOGY) <-> encounters.parquet (REASONDESCRIPTION): True common values\n",
      "symptoms.csv (PATIENT) <-> medications.csv (PATIENT): True common values\n",
      "symptoms.csv (GENDER) <-> patients.csv (DEATHDATE): True common values\n",
      "symptoms.csv (GENDER) <-> patients.csv (GENDER): True common values\n",
      "symptoms.csv (RACE) <-> patients.csv (RACE): True common values\n",
      "symptoms.csv (ETHNICITY) <-> patients.csv (ETHNICITY): True common values\n",
      "symptoms.csv (AGE_END) <-> patients.csv (DEATHDATE): True common values\n",
      "symptoms.csv (AGE_END) <-> patients.csv (GENDER): True common values\n",
      "symptoms.csv (GENDER) <-> patient_gender.csv (GENDER): True common values\n"
     ]
    }
   ],
   "source": [
    "if similar_columns:\n",
    "    print(\"Columns with similar data content:\")\n",
    "    for ((file1, col1, file2, col2), overlap) in similar_columns.items():\n",
    "        print(f\"{file1} ({col1}) <-> {file2} ({col2}): {overlap} common values\")\n",
    "else:\n",
    "    print(\"No similar columns found based on data content.\")"
   ]
  },
  {
   "cell_type": "code",
   "execution_count": null,
   "id": "a6bc4370-a947-4fab-bcc9-e57ef2b3278c",
   "metadata": {},
   "outputs": [],
   "source": []
  }
 ],
 "metadata": {
  "kernelspec": {
   "display_name": "Python 3 (ipykernel)",
   "language": "python",
   "name": "python3"
  },
  "language_info": {
   "codemirror_mode": {
    "name": "ipython",
    "version": 3
   },
   "file_extension": ".py",
   "mimetype": "text/x-python",
   "name": "python",
   "nbconvert_exporter": "python",
   "pygments_lexer": "ipython3",
   "version": "3.12.1"
  }
 },
 "nbformat": 4,
 "nbformat_minor": 5
}
